{
 "cells": [
  {
   "cell_type": "markdown",
   "metadata": {},
   "source": [
    "# Data Exploration\n",
    "\n",
    "This notebook explores the pre-processed data, and shows some basic statistics that may be useful.  "
   ]
  },
  {
   "cell_type": "code",
   "execution_count": 3,
   "metadata": {},
   "outputs": [],
   "source": [
    "import json\n",
    "\n",
    "import pandas as pd\n",
    "from pathlib import Path\n",
    "pd.set_option('max_colwidth',300)\n",
    "from pprint import pprint"
   ]
  },
  {
   "cell_type": "markdown",
   "metadata": {},
   "source": [
    "## Part 1: Preview The Dataset\n",
    "    \n",
    "Before downloading the entire dataset, it may be useful to explore a small sample in order to understand the format and structure of the data.  While the full dataset can be automatically downloaded with the `/script/setup` script located in this repo, we can alternatively download a subset of the data from S3.  \n",
    "\n",
    "The s3 links follow this pattern:\n",
    "\n",
    "> https://s3.amazonaws.com/code-search-net/CodeSearchNet/v2/{python,java,go,php,ruby,javascript}.zip\n",
    "\n",
    "For example, the link for the `python` is:\n",
    "\n",
    "> https://s3.amazonaws.com/code-search-net/CodeSearchNet/v2/python.zip\n",
    "\n",
    "First we download and decompress this dataset:"
   ]
  },
  {
   "cell_type": "markdown",
   "metadata": {},
   "source": [
    "Finally, we can inspect `python/final/jsonl/test/python_test_0.jsonl.gz` to see its contents:"
   ]
  },
  {
   "cell_type": "markdown",
   "metadata": {},
   "source": [
    "Read in the file and display the first row.  The data is stored in [JSON Lines](http://jsonlines.org/) format."
   ]
  },
  {
   "cell_type": "code",
   "execution_count": 4,
   "metadata": {},
   "outputs": [
    {
     "data": {
      "text/plain": [
       "'{\"code\": \"def JX8UK2VA7O LKEPLLYWHP WCJITHXL2F\\\\n 7VR7BUBWE7 TNOS1AYQOM F9AYYUCNL7 72YZYQNAXF GLEMJMWJDW\\\\n\", \"code_tokens\": [\"JX8UK2VA7O\", \"LKEPLLYWHP\", \"WCJITHXL2F\", \".\"], \"comment_tokens\": [], \"doc_id\": 12345, \"docstring\": \"JX8UK2VA7O LKEPLLYWHP WCJITHXL2F 7VR7BUBWE7.\", \"docstring_tokens\": [\"JX8UK2VA7O\", \"LKEPLLYWHP\", \"WCJITHXL2F\", \".\"], \"func_name\": \"JX8UK2VA7O\", \"hash_key\": \"XXXX/YYYY:ZZZZ/AAAA.py\", \"hash_val\": 12345, \"language\": \"python\", \"lineno\": 1, \"original_string\": \"JX8UK2VA7O LKEPLLYWHP WCJITHXL2F\\\\n 7VR7BUBWE7 TNOS1AYQOM F9AYYUCNL7 72YZYQNAXF GLEMJMWJDW TZGGUVUOLA I7TA56BF84\\\\n\", \"partition\": \"test\", \"path\": \"ZZZZ/AAAA.py\", \"repo\": \"XXXX/YYYY\", \"sha\": \"\"}\\n'"
      ]
     },
     "execution_count": 4,
     "metadata": {},
     "output_type": "execute_result"
    }
   ],
   "source": [
    "with open('python.jsonl', 'r') as f:\n",
    "    sample_file = f.readlines()\n",
    "sample_file[0]"
   ]
  },
  {
   "cell_type": "code",
   "execution_count": 5,
   "metadata": {},
   "outputs": [
    {
     "data": {
      "text/plain": [
       "'{\"code\": \"def JX8UK2VA7O LKEPLLYWHP WCJITHXL2F\\\\n 7VR7BUBWE7 TNOS1AYQOM F9AYYUCNL7 72YZYQNAXF GLEMJMWJDW\\\\n\", \"code_tokens\": [\"JX8UK2VA7O\", \"LKEPLLYWHP\", \"WCJITHXL2F\", \".\"], \"comment_tokens\": [], \"doc_id\": 12345, \"docstring\": \"JX8UK2VA7O LKEPLLYWHP WCJITHXL2F 7VR7BUBWE7.\", \"docstring_tokens\": [\"JX8UK2VA7O\", \"LKEPLLYWHP\", \"WCJITHXL2F\", \".\"], \"func_name\": \"JX8UK2VA7O\", \"hash_key\": \"XXXX/YYYY:ZZZZ/AAAA.py\", \"hash_val\": 12345, \"language\": \"python\", \"lineno\": 1, \"original_string\": \"JX8UK2VA7O LKEPLLYWHP WCJITHXL2F\\\\n 7VR7BUBWE7 TNOS1AYQOM F9AYYUCNL7 72YZYQNAXF GLEMJMWJDW TZGGUVUOLA I7TA56BF84\\\\n\", \"partition\": \"test\", \"path\": \"ZZZZ/AAAA.py\", \"repo\": \"XXXX/YYYY\", \"sha\": \"\"}\\n'"
      ]
     },
     "execution_count": 5,
     "metadata": {},
     "output_type": "execute_result"
    }
   ],
   "source": [
    "sample_file[2]"
   ]
  },
  {
   "cell_type": "markdown",
   "metadata": {},
   "source": [
    "We can utilize the fact that each line in the file is valid json, and display the first row in a more human readable form:"
   ]
  },
  {
   "cell_type": "code",
   "execution_count": 6,
   "metadata": {},
   "outputs": [
    {
     "name": "stdout",
     "output_type": "stream",
     "text": [
      "{'code': 'def JX8UK2VA7O LKEPLLYWHP WCJITHXL2F\\n'\n",
      "         ' 7VR7BUBWE7 TNOS1AYQOM F9AYYUCNL7 72YZYQNAXF GLEMJMWJDW\\n',\n",
      " 'code_tokens': ['JX8UK2VA7O', 'LKEPLLYWHP', 'WCJITHXL2F', '.'],\n",
      " 'comment_tokens': [],\n",
      " 'doc_id': 12345,\n",
      " 'docstring': 'JX8UK2VA7O LKEPLLYWHP WCJITHXL2F 7VR7BUBWE7.',\n",
      " 'docstring_tokens': ['JX8UK2VA7O', 'LKEPLLYWHP', 'WCJITHXL2F', '.'],\n",
      " 'func_name': 'JX8UK2VA7O',\n",
      " 'hash_key': 'XXXX/YYYY:ZZZZ/AAAA.py',\n",
      " 'hash_val': 12345,\n",
      " 'language': 'python',\n",
      " 'lineno': 1,\n",
      " 'original_string': 'JX8UK2VA7O LKEPLLYWHP WCJITHXL2F\\n'\n",
      "                    ' 7VR7BUBWE7 TNOS1AYQOM F9AYYUCNL7 72YZYQNAXF GLEMJMWJDW '\n",
      "                    'TZGGUVUOLA I7TA56BF84\\n',\n",
      " 'partition': 'test',\n",
      " 'path': 'ZZZZ/AAAA.py',\n",
      " 'repo': 'XXXX/YYYY',\n",
      " 'sha': ''}\n"
     ]
    }
   ],
   "source": [
    "pprint(json.loads(sample_file[0]))"
   ]
  },
  {
   "cell_type": "code",
   "execution_count": 14,
   "metadata": {},
   "outputs": [
    {
     "data": {
      "text/plain": [
       "<class 'str'>"
      ]
     },
     "execution_count": 14,
     "metadata": {},
     "output_type": "execute_result"
    }
   ],
   "source": [
    "type(sample_file[0])"
   ]
  },
  {
   "cell_type": "code",
   "execution_count": 24,
   "metadata": {},
   "outputs": [
    {
     "data": {
      "text/plain": [
       "<class 'dict'>"
      ]
     },
     "execution_count": 24,
     "metadata": {},
     "output_type": "execute_result"
    }
   ],
   "source": [
    "for element in my_list:\n",
    "type(json.loads(sample_file[0]))\n",
    "df = pd.DataFrame(data, columns=['Key', 'Value'])\n"
   ]
  },
  {
   "cell_type": "code",
   "execution_count": null,
   "metadata": {},
   "outputs": [],
   "source": []
  }
 ],
 "metadata": {
  "kernelspec": {
   "display_name": "Python 3 (ipykernel)",
   "language": "python",
   "name": "python3"
  },
  "language_info": {
   "codemirror_mode": {
    "name": "ipython",
    "version": 3
   },
   "file_extension": ".py",
   "mimetype": "text/x-python",
   "name": "python",
   "nbconvert_exporter": "python",
   "pygments_lexer": "ipython3",
   "version": "3.11.5"
  }
 },
 "nbformat": 4,
 "nbformat_minor": 4
}
